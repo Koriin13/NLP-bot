{
 "cells": [
  {
   "cell_type": "code",
   "execution_count": 7,
   "metadata": {},
   "outputs": [],
   "source": [
    "import nltk\n",
    "\n",
    "from nltk.stem.lancaster import LancasterStemmer \n",
    "stemmer = LancasterStemmer()\n",
    "\n",
    "import numpy as np\n",
    "import tflearn\n",
    "import tensorflow as tf\n",
    "tf.compat.v1.logging.set_verbosity(tf.compat.v1.logging.ERROR)\n",
    "import random"
   ]
  },
  {
   "cell_type": "code",
   "execution_count": 8,
   "metadata": {},
   "outputs": [],
   "source": [
    "import pickle \n",
    "data = pickle.load(open(\"training_data\", \"rb\"))\n",
    "words = data['words']\n",
    "classes = data['classes']\n",
    "train_x = data['train_x']\n",
    "train_y = data['train_y']\n",
    "\n",
    "import json\n",
    "with open('intent.json') as json_data:\n",
    "    intents = json.load(json_data)"
   ]
  },
  {
   "cell_type": "code",
   "execution_count": 14,
   "metadata": {},
   "outputs": [],
   "source": [
    "# Build neural network\n",
    "net = tflearn.input_data(shape=[None, len(train_x[0])])\n",
    "net = tflearn.fully_connected(net, 8)\n",
    "net = tflearn.fully_connected(net, 8)\n",
    "\n",
    "net = tflearn.fully_connected(net, len(train_y[0]), activation='softmax')\n",
    "net = tflearn.regression(net)\n",
    "\n",
    "model = tflearn.DNN(net, tensorboard_dir='tflearn_logs')"
   ]
  },
  {
   "cell_type": "code",
   "execution_count": 16,
   "metadata": {},
   "outputs": [],
   "source": [
    "def clean_up_sentence(sentence):\n",
    "    sentence_words = nltk.word_tokenize(sentence)\n",
    "    sentence_words = [stemmer.stem(word.lower()) for word in sentence_words]\n",
    "    return sentence_words\n",
    "\n",
    "def bow(sentence, words, show_details=False):\n",
    "    sentence_words = clean_up_sentence(sentence)\n",
    "    bag = [0]*len(words)  \n",
    "    for s in sentence_words:\n",
    "        for i,w in enumerate(words):\n",
    "            if w == s: \n",
    "                bag[i] = 1\n",
    "                if show_details:\n",
    "                    print (\"found in bag: %s\" % w)\n",
    "\n",
    "    return(np.array(bag))"
   ]
  },
  {
   "cell_type": "code",
   "execution_count": 17,
   "metadata": {},
   "outputs": [
    {
     "name": "stdout",
     "output_type": "stream",
     "text": [
      "[0 0 0 0 0 0 0 0 0 0 0 0 0 0 0 0 0 0 0 0 0 0 1 0 0 0 0 0 0 0 1 0 0 0 0 0 0\n",
      " 0 0 1 0 0 0 0 0 1 0]\n",
      "['goodbye', 'greeting', 'hours', 'models', 'opentoday', 'payments', 'rental', 'thanks', 'today']\n"
     ]
    }
   ],
   "source": [
    "p = bow(\"is your shop open today?\", words)\n",
    "print (p)\n",
    "print (classes)"
   ]
  },
  {
   "cell_type": "code",
   "execution_count": 21,
   "metadata": {},
   "outputs": [
    {
     "ename": "NotFoundError",
     "evalue": "Restoring from checkpoint failed. This is most likely due to a Variable name or other graph key that is missing from the checkpoint. Please ensure that you have not altered the graph expected based on the checkpoint. Original error:\n\nGraph execution error:\n\nDetected at node 'save_10/RestoreV2' defined at (most recent call last):\n    File \"c:\\Python310\\lib\\runpy.py\", line 196, in _run_module_as_main\n      return _run_code(code, main_globals, None,\n    File \"c:\\Python310\\lib\\runpy.py\", line 86, in _run_code\n      exec(code, run_globals)\n    File \"C:\\Users\\kg149\\AppData\\Roaming\\Python\\Python310\\site-packages\\ipykernel_launcher.py\", line 17, in <module>\n      app.launch_new_instance()\n    File \"c:\\Python310\\lib\\site-packages\\traitlets\\config\\application.py\", line 1041, in launch_instance\n      app.start()\n    File \"C:\\Users\\kg149\\AppData\\Roaming\\Python\\Python310\\site-packages\\ipykernel\\kernelapp.py\", line 724, in start\n      self.io_loop.start()\n    File \"c:\\Python310\\lib\\site-packages\\tornado\\platform\\asyncio.py\", line 215, in start\n      self.asyncio_loop.run_forever()\n    File \"c:\\Python310\\lib\\asyncio\\base_events.py\", line 595, in run_forever\n      self._run_once()\n    File \"c:\\Python310\\lib\\asyncio\\base_events.py\", line 1881, in _run_once\n      handle._run()\n    File \"c:\\Python310\\lib\\asyncio\\events.py\", line 80, in _run\n      self._context.run(self._callback, *self._args)\n    File \"C:\\Users\\kg149\\AppData\\Roaming\\Python\\Python310\\site-packages\\ipykernel\\kernelbase.py\", line 512, in dispatch_queue\n      await self.process_one()\n    File \"C:\\Users\\kg149\\AppData\\Roaming\\Python\\Python310\\site-packages\\ipykernel\\kernelbase.py\", line 501, in process_one\n      await dispatch(*args)\n    File \"C:\\Users\\kg149\\AppData\\Roaming\\Python\\Python310\\site-packages\\ipykernel\\kernelbase.py\", line 408, in dispatch_shell\n      await result\n    File \"C:\\Users\\kg149\\AppData\\Roaming\\Python\\Python310\\site-packages\\ipykernel\\kernelbase.py\", line 731, in execute_request\n      reply_content = await reply_content\n    File \"C:\\Users\\kg149\\AppData\\Roaming\\Python\\Python310\\site-packages\\ipykernel\\ipkernel.py\", line 417, in do_execute\n      res = shell.run_cell(\n    File \"C:\\Users\\kg149\\AppData\\Roaming\\Python\\Python310\\site-packages\\ipykernel\\zmqshell.py\", line 540, in run_cell\n      return super().run_cell(*args, **kwargs)\n    File \"C:\\Users\\kg149\\AppData\\Roaming\\Python\\Python310\\site-packages\\IPython\\core\\interactiveshell.py\", line 2945, in run_cell\n      result = self._run_cell(\n    File \"C:\\Users\\kg149\\AppData\\Roaming\\Python\\Python310\\site-packages\\IPython\\core\\interactiveshell.py\", line 3000, in _run_cell\n      return runner(coro)\n    File \"C:\\Users\\kg149\\AppData\\Roaming\\Python\\Python310\\site-packages\\IPython\\core\\async_helpers.py\", line 129, in _pseudo_sync_runner\n      coro.send(None)\n    File \"C:\\Users\\kg149\\AppData\\Roaming\\Python\\Python310\\site-packages\\IPython\\core\\interactiveshell.py\", line 3203, in run_cell_async\n      has_raised = await self.run_ast_nodes(code_ast.body, cell_name,\n    File \"C:\\Users\\kg149\\AppData\\Roaming\\Python\\Python310\\site-packages\\IPython\\core\\interactiveshell.py\", line 3382, in run_ast_nodes\n      if await self.run_code(code, result, async_=asy):\n    File \"C:\\Users\\kg149\\AppData\\Roaming\\Python\\Python310\\site-packages\\IPython\\core\\interactiveshell.py\", line 3442, in run_code\n      exec(code_obj, self.user_global_ns, self.user_ns)\n    File \"C:\\Users\\kg149\\AppData\\Local\\Temp\\ipykernel_23900\\223887884.py\", line 9, in <module>\n      model = tflearn.DNN(net, tensorboard_dir='tflearn_logs')\n    File \"C:\\Users\\kg149\\AppData\\Roaming\\Python\\Python310\\site-packages\\tflearn\\models\\dnn.py\", line 57, in __init__\n      self.trainer = Trainer(self.train_ops,\n    File \"C:\\Users\\kg149\\AppData\\Roaming\\Python\\Python310\\site-packages\\tflearn\\helpers\\trainer.py\", line 157, in __init__\n      self.restorer_trainvars = tf.train.Saver(\nNode: 'save_10/RestoreV2'\nKey FullyConnected_3/W not found in checkpoint\n\t [[{{node save_10/RestoreV2}}]]\n\nOriginal stack trace for 'save_10/RestoreV2':\n  File \"c:\\Python310\\lib\\runpy.py\", line 196, in _run_module_as_main\n    return _run_code(code, main_globals, None,\n  File \"c:\\Python310\\lib\\runpy.py\", line 86, in _run_code\n    exec(code, run_globals)\n  File \"C:\\Users\\kg149\\AppData\\Roaming\\Python\\Python310\\site-packages\\ipykernel_launcher.py\", line 17, in <module>\n    app.launch_new_instance()\n  File \"c:\\Python310\\lib\\site-packages\\traitlets\\config\\application.py\", line 1041, in launch_instance\n    app.start()\n  File \"C:\\Users\\kg149\\AppData\\Roaming\\Python\\Python310\\site-packages\\ipykernel\\kernelapp.py\", line 724, in start\n    self.io_loop.start()\n  File \"c:\\Python310\\lib\\site-packages\\tornado\\platform\\asyncio.py\", line 215, in start\n    self.asyncio_loop.run_forever()\n  File \"c:\\Python310\\lib\\asyncio\\base_events.py\", line 595, in run_forever\n    self._run_once()\n  File \"c:\\Python310\\lib\\asyncio\\base_events.py\", line 1881, in _run_once\n    handle._run()\n  File \"c:\\Python310\\lib\\asyncio\\events.py\", line 80, in _run\n    self._context.run(self._callback, *self._args)\n  File \"C:\\Users\\kg149\\AppData\\Roaming\\Python\\Python310\\site-packages\\ipykernel\\kernelbase.py\", line 512, in dispatch_queue\n    await self.process_one()\n  File \"C:\\Users\\kg149\\AppData\\Roaming\\Python\\Python310\\site-packages\\ipykernel\\kernelbase.py\", line 501, in process_one\n    await dispatch(*args)\n  File \"C:\\Users\\kg149\\AppData\\Roaming\\Python\\Python310\\site-packages\\ipykernel\\kernelbase.py\", line 408, in dispatch_shell\n    await result\n  File \"C:\\Users\\kg149\\AppData\\Roaming\\Python\\Python310\\site-packages\\ipykernel\\kernelbase.py\", line 731, in execute_request\n    reply_content = await reply_content\n  File \"C:\\Users\\kg149\\AppData\\Roaming\\Python\\Python310\\site-packages\\ipykernel\\ipkernel.py\", line 417, in do_execute\n    res = shell.run_cell(\n  File \"C:\\Users\\kg149\\AppData\\Roaming\\Python\\Python310\\site-packages\\ipykernel\\zmqshell.py\", line 540, in run_cell\n    return super().run_cell(*args, **kwargs)\n  File \"C:\\Users\\kg149\\AppData\\Roaming\\Python\\Python310\\site-packages\\IPython\\core\\interactiveshell.py\", line 2945, in run_cell\n    result = self._run_cell(\n  File \"C:\\Users\\kg149\\AppData\\Roaming\\Python\\Python310\\site-packages\\IPython\\core\\interactiveshell.py\", line 3000, in _run_cell\n    return runner(coro)\n  File \"C:\\Users\\kg149\\AppData\\Roaming\\Python\\Python310\\site-packages\\IPython\\core\\async_helpers.py\", line 129, in _pseudo_sync_runner\n    coro.send(None)\n  File \"C:\\Users\\kg149\\AppData\\Roaming\\Python\\Python310\\site-packages\\IPython\\core\\interactiveshell.py\", line 3203, in run_cell_async\n    has_raised = await self.run_ast_nodes(code_ast.body, cell_name,\n  File \"C:\\Users\\kg149\\AppData\\Roaming\\Python\\Python310\\site-packages\\IPython\\core\\interactiveshell.py\", line 3382, in run_ast_nodes\n    if await self.run_code(code, result, async_=asy):\n  File \"C:\\Users\\kg149\\AppData\\Roaming\\Python\\Python310\\site-packages\\IPython\\core\\interactiveshell.py\", line 3442, in run_code\n    exec(code_obj, self.user_global_ns, self.user_ns)\n  File \"C:\\Users\\kg149\\AppData\\Local\\Temp\\ipykernel_23900\\223887884.py\", line 9, in <module>\n    model = tflearn.DNN(net, tensorboard_dir='tflearn_logs')\n  File \"C:\\Users\\kg149\\AppData\\Roaming\\Python\\Python310\\site-packages\\tflearn\\models\\dnn.py\", line 57, in __init__\n    self.trainer = Trainer(self.train_ops,\n  File \"C:\\Users\\kg149\\AppData\\Roaming\\Python\\Python310\\site-packages\\tflearn\\helpers\\trainer.py\", line 157, in __init__\n    self.restorer_trainvars = tf.train.Saver(\n  File \"C:\\Users\\kg149\\AppData\\Roaming\\Python\\Python310\\site-packages\\tensorflow\\python\\training\\saver.py\", line 931, in __init__\n    self.build()\n  File \"C:\\Users\\kg149\\AppData\\Roaming\\Python\\Python310\\site-packages\\tensorflow\\python\\training\\saver.py\", line 943, in build\n    self._build(self._filename, build_save=True, build_restore=True)\n  File \"C:\\Users\\kg149\\AppData\\Roaming\\Python\\Python310\\site-packages\\tensorflow\\python\\training\\saver.py\", line 971, in _build\n    self.saver_def = self._builder._build_internal(  # pylint: disable=protected-access\n  File \"C:\\Users\\kg149\\AppData\\Roaming\\Python\\Python310\\site-packages\\tensorflow\\python\\training\\saver.py\", line 540, in _build_internal\n    restore_op = self._AddRestoreOps(filename_tensor, saveables,\n  File \"C:\\Users\\kg149\\AppData\\Roaming\\Python\\Python310\\site-packages\\tensorflow\\python\\training\\saver.py\", line 360, in _AddRestoreOps\n    all_tensors = self.bulk_restore(filename_tensor, saveables, preferred_shard,\n  File \"C:\\Users\\kg149\\AppData\\Roaming\\Python\\Python310\\site-packages\\tensorflow\\python\\training\\saver.py\", line 608, in bulk_restore\n    return io_ops.restore_v2(filename_tensor, names, slices, dtypes)\n  File \"C:\\Users\\kg149\\AppData\\Roaming\\Python\\Python310\\site-packages\\tensorflow\\python\\ops\\gen_io_ops.py\", line 1604, in restore_v2\n    _, _, _op, _outputs = _op_def_library._apply_op_helper(\n  File \"C:\\Users\\kg149\\AppData\\Roaming\\Python\\Python310\\site-packages\\tensorflow\\python\\framework\\op_def_library.py\", line 795, in _apply_op_helper\n    op = g._create_op_internal(op_type_name, inputs, dtypes=None,\n  File \"C:\\Users\\kg149\\AppData\\Roaming\\Python\\Python310\\site-packages\\tensorflow\\python\\framework\\ops.py\", line 3798, in _create_op_internal\n    ret = Operation(\n",
     "output_type": "error",
     "traceback": [
      "\u001b[1;31m---------------------------------------------------------------------------\u001b[0m",
      "\u001b[1;31mNotFoundError\u001b[0m                             Traceback (most recent call last)",
      "File \u001b[1;32m~\\AppData\\Roaming\\Python\\Python310\\site-packages\\tensorflow\\python\\client\\session.py:1378\u001b[0m, in \u001b[0;36mBaseSession._do_call\u001b[1;34m(self, fn, *args)\u001b[0m\n\u001b[0;32m   1377\u001b[0m \u001b[39mtry\u001b[39;00m:\n\u001b[1;32m-> 1378\u001b[0m   \u001b[39mreturn\u001b[39;00m fn(\u001b[39m*\u001b[39;49margs)\n\u001b[0;32m   1379\u001b[0m \u001b[39mexcept\u001b[39;00m errors\u001b[39m.\u001b[39mOpError \u001b[39mas\u001b[39;00m e:\n",
      "File \u001b[1;32m~\\AppData\\Roaming\\Python\\Python310\\site-packages\\tensorflow\\python\\client\\session.py:1361\u001b[0m, in \u001b[0;36mBaseSession._do_run.<locals>._run_fn\u001b[1;34m(feed_dict, fetch_list, target_list, options, run_metadata)\u001b[0m\n\u001b[0;32m   1360\u001b[0m \u001b[39mself\u001b[39m\u001b[39m.\u001b[39m_extend_graph()\n\u001b[1;32m-> 1361\u001b[0m \u001b[39mreturn\u001b[39;00m \u001b[39mself\u001b[39;49m\u001b[39m.\u001b[39;49m_call_tf_sessionrun(options, feed_dict, fetch_list,\n\u001b[0;32m   1362\u001b[0m                                 target_list, run_metadata)\n",
      "File \u001b[1;32m~\\AppData\\Roaming\\Python\\Python310\\site-packages\\tensorflow\\python\\client\\session.py:1454\u001b[0m, in \u001b[0;36mBaseSession._call_tf_sessionrun\u001b[1;34m(self, options, feed_dict, fetch_list, target_list, run_metadata)\u001b[0m\n\u001b[0;32m   1452\u001b[0m \u001b[39mdef\u001b[39;00m \u001b[39m_call_tf_sessionrun\u001b[39m(\u001b[39mself\u001b[39m, options, feed_dict, fetch_list, target_list,\n\u001b[0;32m   1453\u001b[0m                         run_metadata):\n\u001b[1;32m-> 1454\u001b[0m   \u001b[39mreturn\u001b[39;00m tf_session\u001b[39m.\u001b[39;49mTF_SessionRun_wrapper(\u001b[39mself\u001b[39;49m\u001b[39m.\u001b[39;49m_session, options, feed_dict,\n\u001b[0;32m   1455\u001b[0m                                           fetch_list, target_list,\n\u001b[0;32m   1456\u001b[0m                                           run_metadata)\n",
      "\u001b[1;31mNotFoundError\u001b[0m: Key FullyConnected_3/W not found in checkpoint\n\t [[{{node save_10/RestoreV2}}]]",
      "\nDuring handling of the above exception, another exception occurred:\n",
      "\u001b[1;31mNotFoundError\u001b[0m                             Traceback (most recent call last)",
      "File \u001b[1;32m~\\AppData\\Roaming\\Python\\Python310\\site-packages\\tensorflow\\python\\training\\saver.py:1415\u001b[0m, in \u001b[0;36mSaver.restore\u001b[1;34m(self, sess, save_path)\u001b[0m\n\u001b[0;32m   1414\u001b[0m   \u001b[39melse\u001b[39;00m:\n\u001b[1;32m-> 1415\u001b[0m     sess\u001b[39m.\u001b[39;49mrun(\u001b[39mself\u001b[39;49m\u001b[39m.\u001b[39;49msaver_def\u001b[39m.\u001b[39;49mrestore_op_name,\n\u001b[0;32m   1416\u001b[0m              {\u001b[39mself\u001b[39;49m\u001b[39m.\u001b[39;49msaver_def\u001b[39m.\u001b[39;49mfilename_tensor_name: save_path})\n\u001b[0;32m   1417\u001b[0m \u001b[39mexcept\u001b[39;00m errors\u001b[39m.\u001b[39mNotFoundError \u001b[39mas\u001b[39;00m err:\n\u001b[0;32m   1418\u001b[0m   \u001b[39m# There are three common conditions that might cause this error:\u001b[39;00m\n\u001b[0;32m   1419\u001b[0m   \u001b[39m# 0. The file is missing. We ignore here, as this is checked above.\u001b[39;00m\n\u001b[1;32m   (...)\u001b[0m\n\u001b[0;32m   1423\u001b[0m   \u001b[39m# 1. The checkpoint would not be loaded successfully as is. Try to parse\u001b[39;00m\n\u001b[0;32m   1424\u001b[0m   \u001b[39m# it as an object-based checkpoint.\u001b[39;00m\n",
      "File \u001b[1;32m~\\AppData\\Roaming\\Python\\Python310\\site-packages\\tensorflow\\python\\client\\session.py:968\u001b[0m, in \u001b[0;36mBaseSession.run\u001b[1;34m(self, fetches, feed_dict, options, run_metadata)\u001b[0m\n\u001b[0;32m    967\u001b[0m \u001b[39mtry\u001b[39;00m:\n\u001b[1;32m--> 968\u001b[0m   result \u001b[39m=\u001b[39m \u001b[39mself\u001b[39;49m\u001b[39m.\u001b[39;49m_run(\u001b[39mNone\u001b[39;49;00m, fetches, feed_dict, options_ptr,\n\u001b[0;32m    969\u001b[0m                      run_metadata_ptr)\n\u001b[0;32m    970\u001b[0m   \u001b[39mif\u001b[39;00m run_metadata:\n",
      "File \u001b[1;32m~\\AppData\\Roaming\\Python\\Python310\\site-packages\\tensorflow\\python\\client\\session.py:1191\u001b[0m, in \u001b[0;36mBaseSession._run\u001b[1;34m(self, handle, fetches, feed_dict, options, run_metadata)\u001b[0m\n\u001b[0;32m   1190\u001b[0m \u001b[39mif\u001b[39;00m final_fetches \u001b[39mor\u001b[39;00m final_targets \u001b[39mor\u001b[39;00m (handle \u001b[39mand\u001b[39;00m feed_dict_tensor):\n\u001b[1;32m-> 1191\u001b[0m   results \u001b[39m=\u001b[39m \u001b[39mself\u001b[39;49m\u001b[39m.\u001b[39;49m_do_run(handle, final_targets, final_fetches,\n\u001b[0;32m   1192\u001b[0m                          feed_dict_tensor, options, run_metadata)\n\u001b[0;32m   1193\u001b[0m \u001b[39melse\u001b[39;00m:\n",
      "File \u001b[1;32m~\\AppData\\Roaming\\Python\\Python310\\site-packages\\tensorflow\\python\\client\\session.py:1371\u001b[0m, in \u001b[0;36mBaseSession._do_run\u001b[1;34m(self, handle, target_list, fetch_list, feed_dict, options, run_metadata)\u001b[0m\n\u001b[0;32m   1370\u001b[0m \u001b[39mif\u001b[39;00m handle \u001b[39mis\u001b[39;00m \u001b[39mNone\u001b[39;00m:\n\u001b[1;32m-> 1371\u001b[0m   \u001b[39mreturn\u001b[39;00m \u001b[39mself\u001b[39;49m\u001b[39m.\u001b[39;49m_do_call(_run_fn, feeds, fetches, targets, options,\n\u001b[0;32m   1372\u001b[0m                        run_metadata)\n\u001b[0;32m   1373\u001b[0m \u001b[39melse\u001b[39;00m:\n",
      "File \u001b[1;32m~\\AppData\\Roaming\\Python\\Python310\\site-packages\\tensorflow\\python\\client\\session.py:1397\u001b[0m, in \u001b[0;36mBaseSession._do_call\u001b[1;34m(self, fn, *args)\u001b[0m\n\u001b[0;32m   1393\u001b[0m   message \u001b[39m+\u001b[39m\u001b[39m=\u001b[39m (\u001b[39m'\u001b[39m\u001b[39m\\n\u001b[39;00m\u001b[39mA possible workaround: Try disabling Grappler optimizer\u001b[39m\u001b[39m'\u001b[39m\n\u001b[0;32m   1394\u001b[0m               \u001b[39m'\u001b[39m\u001b[39m\\n\u001b[39;00m\u001b[39mby modifying the config for creating the session eg.\u001b[39m\u001b[39m'\u001b[39m\n\u001b[0;32m   1395\u001b[0m               \u001b[39m'\u001b[39m\u001b[39m\\n\u001b[39;00m\u001b[39msession_config.graph_options.rewrite_options.\u001b[39m\u001b[39m'\u001b[39m\n\u001b[0;32m   1396\u001b[0m               \u001b[39m'\u001b[39m\u001b[39mdisable_meta_optimizer = True\u001b[39m\u001b[39m'\u001b[39m)\n\u001b[1;32m-> 1397\u001b[0m \u001b[39mraise\u001b[39;00m \u001b[39mtype\u001b[39m(e)(node_def, op, message)\n",
      "\u001b[1;31mNotFoundError\u001b[0m: Graph execution error:\n\nDetected at node 'save_10/RestoreV2' defined at (most recent call last):\n    File \"c:\\Python310\\lib\\runpy.py\", line 196, in _run_module_as_main\n      return _run_code(code, main_globals, None,\n    File \"c:\\Python310\\lib\\runpy.py\", line 86, in _run_code\n      exec(code, run_globals)\n    File \"C:\\Users\\kg149\\AppData\\Roaming\\Python\\Python310\\site-packages\\ipykernel_launcher.py\", line 17, in <module>\n      app.launch_new_instance()\n    File \"c:\\Python310\\lib\\site-packages\\traitlets\\config\\application.py\", line 1041, in launch_instance\n      app.start()\n    File \"C:\\Users\\kg149\\AppData\\Roaming\\Python\\Python310\\site-packages\\ipykernel\\kernelapp.py\", line 724, in start\n      self.io_loop.start()\n    File \"c:\\Python310\\lib\\site-packages\\tornado\\platform\\asyncio.py\", line 215, in start\n      self.asyncio_loop.run_forever()\n    File \"c:\\Python310\\lib\\asyncio\\base_events.py\", line 595, in run_forever\n      self._run_once()\n    File \"c:\\Python310\\lib\\asyncio\\base_events.py\", line 1881, in _run_once\n      handle._run()\n    File \"c:\\Python310\\lib\\asyncio\\events.py\", line 80, in _run\n      self._context.run(self._callback, *self._args)\n    File \"C:\\Users\\kg149\\AppData\\Roaming\\Python\\Python310\\site-packages\\ipykernel\\kernelbase.py\", line 512, in dispatch_queue\n      await self.process_one()\n    File \"C:\\Users\\kg149\\AppData\\Roaming\\Python\\Python310\\site-packages\\ipykernel\\kernelbase.py\", line 501, in process_one\n      await dispatch(*args)\n    File \"C:\\Users\\kg149\\AppData\\Roaming\\Python\\Python310\\site-packages\\ipykernel\\kernelbase.py\", line 408, in dispatch_shell\n      await result\n    File \"C:\\Users\\kg149\\AppData\\Roaming\\Python\\Python310\\site-packages\\ipykernel\\kernelbase.py\", line 731, in execute_request\n      reply_content = await reply_content\n    File \"C:\\Users\\kg149\\AppData\\Roaming\\Python\\Python310\\site-packages\\ipykernel\\ipkernel.py\", line 417, in do_execute\n      res = shell.run_cell(\n    File \"C:\\Users\\kg149\\AppData\\Roaming\\Python\\Python310\\site-packages\\ipykernel\\zmqshell.py\", line 540, in run_cell\n      return super().run_cell(*args, **kwargs)\n    File \"C:\\Users\\kg149\\AppData\\Roaming\\Python\\Python310\\site-packages\\IPython\\core\\interactiveshell.py\", line 2945, in run_cell\n      result = self._run_cell(\n    File \"C:\\Users\\kg149\\AppData\\Roaming\\Python\\Python310\\site-packages\\IPython\\core\\interactiveshell.py\", line 3000, in _run_cell\n      return runner(coro)\n    File \"C:\\Users\\kg149\\AppData\\Roaming\\Python\\Python310\\site-packages\\IPython\\core\\async_helpers.py\", line 129, in _pseudo_sync_runner\n      coro.send(None)\n    File \"C:\\Users\\kg149\\AppData\\Roaming\\Python\\Python310\\site-packages\\IPython\\core\\interactiveshell.py\", line 3203, in run_cell_async\n      has_raised = await self.run_ast_nodes(code_ast.body, cell_name,\n    File \"C:\\Users\\kg149\\AppData\\Roaming\\Python\\Python310\\site-packages\\IPython\\core\\interactiveshell.py\", line 3382, in run_ast_nodes\n      if await self.run_code(code, result, async_=asy):\n    File \"C:\\Users\\kg149\\AppData\\Roaming\\Python\\Python310\\site-packages\\IPython\\core\\interactiveshell.py\", line 3442, in run_code\n      exec(code_obj, self.user_global_ns, self.user_ns)\n    File \"C:\\Users\\kg149\\AppData\\Local\\Temp\\ipykernel_23900\\223887884.py\", line 9, in <module>\n      model = tflearn.DNN(net, tensorboard_dir='tflearn_logs')\n    File \"C:\\Users\\kg149\\AppData\\Roaming\\Python\\Python310\\site-packages\\tflearn\\models\\dnn.py\", line 57, in __init__\n      self.trainer = Trainer(self.train_ops,\n    File \"C:\\Users\\kg149\\AppData\\Roaming\\Python\\Python310\\site-packages\\tflearn\\helpers\\trainer.py\", line 157, in __init__\n      self.restorer_trainvars = tf.train.Saver(\nNode: 'save_10/RestoreV2'\nKey FullyConnected_3/W not found in checkpoint\n\t [[{{node save_10/RestoreV2}}]]\n\nOriginal stack trace for 'save_10/RestoreV2':\n  File \"c:\\Python310\\lib\\runpy.py\", line 196, in _run_module_as_main\n    return _run_code(code, main_globals, None,\n  File \"c:\\Python310\\lib\\runpy.py\", line 86, in _run_code\n    exec(code, run_globals)\n  File \"C:\\Users\\kg149\\AppData\\Roaming\\Python\\Python310\\site-packages\\ipykernel_launcher.py\", line 17, in <module>\n    app.launch_new_instance()\n  File \"c:\\Python310\\lib\\site-packages\\traitlets\\config\\application.py\", line 1041, in launch_instance\n    app.start()\n  File \"C:\\Users\\kg149\\AppData\\Roaming\\Python\\Python310\\site-packages\\ipykernel\\kernelapp.py\", line 724, in start\n    self.io_loop.start()\n  File \"c:\\Python310\\lib\\site-packages\\tornado\\platform\\asyncio.py\", line 215, in start\n    self.asyncio_loop.run_forever()\n  File \"c:\\Python310\\lib\\asyncio\\base_events.py\", line 595, in run_forever\n    self._run_once()\n  File \"c:\\Python310\\lib\\asyncio\\base_events.py\", line 1881, in _run_once\n    handle._run()\n  File \"c:\\Python310\\lib\\asyncio\\events.py\", line 80, in _run\n    self._context.run(self._callback, *self._args)\n  File \"C:\\Users\\kg149\\AppData\\Roaming\\Python\\Python310\\site-packages\\ipykernel\\kernelbase.py\", line 512, in dispatch_queue\n    await self.process_one()\n  File \"C:\\Users\\kg149\\AppData\\Roaming\\Python\\Python310\\site-packages\\ipykernel\\kernelbase.py\", line 501, in process_one\n    await dispatch(*args)\n  File \"C:\\Users\\kg149\\AppData\\Roaming\\Python\\Python310\\site-packages\\ipykernel\\kernelbase.py\", line 408, in dispatch_shell\n    await result\n  File \"C:\\Users\\kg149\\AppData\\Roaming\\Python\\Python310\\site-packages\\ipykernel\\kernelbase.py\", line 731, in execute_request\n    reply_content = await reply_content\n  File \"C:\\Users\\kg149\\AppData\\Roaming\\Python\\Python310\\site-packages\\ipykernel\\ipkernel.py\", line 417, in do_execute\n    res = shell.run_cell(\n  File \"C:\\Users\\kg149\\AppData\\Roaming\\Python\\Python310\\site-packages\\ipykernel\\zmqshell.py\", line 540, in run_cell\n    return super().run_cell(*args, **kwargs)\n  File \"C:\\Users\\kg149\\AppData\\Roaming\\Python\\Python310\\site-packages\\IPython\\core\\interactiveshell.py\", line 2945, in run_cell\n    result = self._run_cell(\n  File \"C:\\Users\\kg149\\AppData\\Roaming\\Python\\Python310\\site-packages\\IPython\\core\\interactiveshell.py\", line 3000, in _run_cell\n    return runner(coro)\n  File \"C:\\Users\\kg149\\AppData\\Roaming\\Python\\Python310\\site-packages\\IPython\\core\\async_helpers.py\", line 129, in _pseudo_sync_runner\n    coro.send(None)\n  File \"C:\\Users\\kg149\\AppData\\Roaming\\Python\\Python310\\site-packages\\IPython\\core\\interactiveshell.py\", line 3203, in run_cell_async\n    has_raised = await self.run_ast_nodes(code_ast.body, cell_name,\n  File \"C:\\Users\\kg149\\AppData\\Roaming\\Python\\Python310\\site-packages\\IPython\\core\\interactiveshell.py\", line 3382, in run_ast_nodes\n    if await self.run_code(code, result, async_=asy):\n  File \"C:\\Users\\kg149\\AppData\\Roaming\\Python\\Python310\\site-packages\\IPython\\core\\interactiveshell.py\", line 3442, in run_code\n    exec(code_obj, self.user_global_ns, self.user_ns)\n  File \"C:\\Users\\kg149\\AppData\\Local\\Temp\\ipykernel_23900\\223887884.py\", line 9, in <module>\n    model = tflearn.DNN(net, tensorboard_dir='tflearn_logs')\n  File \"C:\\Users\\kg149\\AppData\\Roaming\\Python\\Python310\\site-packages\\tflearn\\models\\dnn.py\", line 57, in __init__\n    self.trainer = Trainer(self.train_ops,\n  File \"C:\\Users\\kg149\\AppData\\Roaming\\Python\\Python310\\site-packages\\tflearn\\helpers\\trainer.py\", line 157, in __init__\n    self.restorer_trainvars = tf.train.Saver(\n  File \"C:\\Users\\kg149\\AppData\\Roaming\\Python\\Python310\\site-packages\\tensorflow\\python\\training\\saver.py\", line 931, in __init__\n    self.build()\n  File \"C:\\Users\\kg149\\AppData\\Roaming\\Python\\Python310\\site-packages\\tensorflow\\python\\training\\saver.py\", line 943, in build\n    self._build(self._filename, build_save=True, build_restore=True)\n  File \"C:\\Users\\kg149\\AppData\\Roaming\\Python\\Python310\\site-packages\\tensorflow\\python\\training\\saver.py\", line 971, in _build\n    self.saver_def = self._builder._build_internal(  # pylint: disable=protected-access\n  File \"C:\\Users\\kg149\\AppData\\Roaming\\Python\\Python310\\site-packages\\tensorflow\\python\\training\\saver.py\", line 540, in _build_internal\n    restore_op = self._AddRestoreOps(filename_tensor, saveables,\n  File \"C:\\Users\\kg149\\AppData\\Roaming\\Python\\Python310\\site-packages\\tensorflow\\python\\training\\saver.py\", line 360, in _AddRestoreOps\n    all_tensors = self.bulk_restore(filename_tensor, saveables, preferred_shard,\n  File \"C:\\Users\\kg149\\AppData\\Roaming\\Python\\Python310\\site-packages\\tensorflow\\python\\training\\saver.py\", line 608, in bulk_restore\n    return io_ops.restore_v2(filename_tensor, names, slices, dtypes)\n  File \"C:\\Users\\kg149\\AppData\\Roaming\\Python\\Python310\\site-packages\\tensorflow\\python\\ops\\gen_io_ops.py\", line 1604, in restore_v2\n    _, _, _op, _outputs = _op_def_library._apply_op_helper(\n  File \"C:\\Users\\kg149\\AppData\\Roaming\\Python\\Python310\\site-packages\\tensorflow\\python\\framework\\op_def_library.py\", line 795, in _apply_op_helper\n    op = g._create_op_internal(op_type_name, inputs, dtypes=None,\n  File \"C:\\Users\\kg149\\AppData\\Roaming\\Python\\Python310\\site-packages\\tensorflow\\python\\framework\\ops.py\", line 3798, in _create_op_internal\n    ret = Operation(\n",
      "\nDuring handling of the above exception, another exception occurred:\n",
      "\u001b[1;31mRuntimeError\u001b[0m                              Traceback (most recent call last)",
      "File \u001b[1;32m~\\AppData\\Roaming\\Python\\Python310\\site-packages\\tensorflow\\python\\training\\py_checkpoint_reader.py:66\u001b[0m, in \u001b[0;36mget_tensor\u001b[1;34m(self, tensor_str)\u001b[0m\n\u001b[0;32m     65\u001b[0m \u001b[39mtry\u001b[39;00m:\n\u001b[1;32m---> 66\u001b[0m   \u001b[39mreturn\u001b[39;00m CheckpointReader\u001b[39m.\u001b[39;49mCheckpointReader_GetTensor(\n\u001b[0;32m     67\u001b[0m       \u001b[39mself\u001b[39;49m, compat\u001b[39m.\u001b[39;49mas_bytes(tensor_str))\n\u001b[0;32m     68\u001b[0m \u001b[39m# TODO(b/143319754): Remove the RuntimeError casting logic once we resolve the\u001b[39;00m\n\u001b[0;32m     69\u001b[0m \u001b[39m# issue with throwing python exceptions from C++.\u001b[39;00m\n",
      "\u001b[1;31mRuntimeError\u001b[0m: Key _CHECKPOINTABLE_OBJECT_GRAPH not found in checkpoint",
      "\nDuring handling of the above exception, another exception occurred:\n",
      "\u001b[1;31mNotFoundError\u001b[0m                             Traceback (most recent call last)",
      "File \u001b[1;32m~\\AppData\\Roaming\\Python\\Python310\\site-packages\\tensorflow\\python\\training\\saver.py:1426\u001b[0m, in \u001b[0;36mSaver.restore\u001b[1;34m(self, sess, save_path)\u001b[0m\n\u001b[0;32m   1425\u001b[0m \u001b[39mtry\u001b[39;00m:\n\u001b[1;32m-> 1426\u001b[0m   names_to_keys \u001b[39m=\u001b[39m object_graph_key_mapping(save_path)\n\u001b[0;32m   1427\u001b[0m \u001b[39mexcept\u001b[39;00m errors\u001b[39m.\u001b[39mNotFoundError:\n\u001b[0;32m   1428\u001b[0m   \u001b[39m# 2. This is not an object-based checkpoint, which likely means there\u001b[39;00m\n\u001b[0;32m   1429\u001b[0m   \u001b[39m# is a graph mismatch. Re-raise the original error with\u001b[39;00m\n\u001b[0;32m   1430\u001b[0m   \u001b[39m# a helpful message (b/110263146)\u001b[39;00m\n",
      "File \u001b[1;32m~\\AppData\\Roaming\\Python\\Python310\\site-packages\\tensorflow\\python\\training\\saver.py:1748\u001b[0m, in \u001b[0;36mobject_graph_key_mapping\u001b[1;34m(checkpoint_path)\u001b[0m\n\u001b[0;32m   1747\u001b[0m reader \u001b[39m=\u001b[39m py_checkpoint_reader\u001b[39m.\u001b[39mNewCheckpointReader(checkpoint_path)\n\u001b[1;32m-> 1748\u001b[0m object_graph_string \u001b[39m=\u001b[39m reader\u001b[39m.\u001b[39;49mget_tensor(trackable\u001b[39m.\u001b[39;49mOBJECT_GRAPH_PROTO_KEY)\n\u001b[0;32m   1749\u001b[0m object_graph_proto \u001b[39m=\u001b[39m (trackable_object_graph_pb2\u001b[39m.\u001b[39mTrackableObjectGraph())\n",
      "File \u001b[1;32m~\\AppData\\Roaming\\Python\\Python310\\site-packages\\tensorflow\\python\\training\\py_checkpoint_reader.py:71\u001b[0m, in \u001b[0;36mget_tensor\u001b[1;34m(self, tensor_str)\u001b[0m\n\u001b[0;32m     70\u001b[0m \u001b[39mexcept\u001b[39;00m \u001b[39mRuntimeError\u001b[39;00m \u001b[39mas\u001b[39;00m e:\n\u001b[1;32m---> 71\u001b[0m   error_translator(e)\n",
      "File \u001b[1;32m~\\AppData\\Roaming\\Python\\Python310\\site-packages\\tensorflow\\python\\training\\py_checkpoint_reader.py:31\u001b[0m, in \u001b[0;36merror_translator\u001b[1;34m(e)\u001b[0m\n\u001b[0;32m     28\u001b[0m \u001b[39mif\u001b[39;00m \u001b[39m'\u001b[39m\u001b[39mnot found in checkpoint\u001b[39m\u001b[39m'\u001b[39m \u001b[39min\u001b[39;00m error_message \u001b[39mor\u001b[39;00m (\n\u001b[0;32m     29\u001b[0m     \u001b[39m'\u001b[39m\u001b[39mFailed to find any \u001b[39m\u001b[39m'\u001b[39m\n\u001b[0;32m     30\u001b[0m     \u001b[39m'\u001b[39m\u001b[39mmatching files for\u001b[39m\u001b[39m'\u001b[39m) \u001b[39min\u001b[39;00m error_message:\n\u001b[1;32m---> 31\u001b[0m   \u001b[39mraise\u001b[39;00m errors_impl\u001b[39m.\u001b[39mNotFoundError(\u001b[39mNone\u001b[39;00m, \u001b[39mNone\u001b[39;00m, error_message)\n\u001b[0;32m     32\u001b[0m \u001b[39melif\u001b[39;00m \u001b[39m'\u001b[39m\u001b[39mSliced checkpoints are not supported\u001b[39m\u001b[39m'\u001b[39m \u001b[39min\u001b[39;00m error_message \u001b[39mor\u001b[39;00m (\n\u001b[0;32m     33\u001b[0m     \u001b[39m'\u001b[39m\u001b[39mData type \u001b[39m\u001b[39m'\u001b[39m\n\u001b[0;32m     34\u001b[0m     \u001b[39m'\u001b[39m\u001b[39mnot \u001b[39m\u001b[39m'\u001b[39m\n\u001b[0;32m     35\u001b[0m     \u001b[39m'\u001b[39m\u001b[39msupported\u001b[39m\u001b[39m'\u001b[39m) \u001b[39min\u001b[39;00m error_message:\n",
      "\u001b[1;31mNotFoundError\u001b[0m: Key _CHECKPOINTABLE_OBJECT_GRAPH not found in checkpoint",
      "\nDuring handling of the above exception, another exception occurred:\n",
      "\u001b[1;31mNotFoundError\u001b[0m                             Traceback (most recent call last)",
      "Cell \u001b[1;32mIn[21], line 2\u001b[0m\n\u001b[0;32m      1\u001b[0m \u001b[39m# load our saved model\u001b[39;00m\n\u001b[1;32m----> 2\u001b[0m model\u001b[39m.\u001b[39;49mload(\u001b[39m'\u001b[39;49m\u001b[39m./model.tflearn\u001b[39;49m\u001b[39m'\u001b[39;49m, weights_only\u001b[39m=\u001b[39;49m\u001b[39mTrue\u001b[39;49;00m)\n",
      "File \u001b[1;32m~\\AppData\\Roaming\\Python\\Python310\\site-packages\\tflearn\\models\\dnn.py:302\u001b[0m, in \u001b[0;36mDNN.load\u001b[1;34m(self, model_file, weights_only, **optargs)\u001b[0m\n\u001b[0;32m    286\u001b[0m \u001b[39mdef\u001b[39;00m \u001b[39mload\u001b[39m(\u001b[39mself\u001b[39m, model_file, weights_only\u001b[39m=\u001b[39m\u001b[39mFalse\u001b[39;00m, \u001b[39m*\u001b[39m\u001b[39m*\u001b[39moptargs):\n\u001b[0;32m    287\u001b[0m \u001b[39m    \u001b[39m\u001b[39m\"\"\" Load.\u001b[39;00m\n\u001b[0;32m    288\u001b[0m \n\u001b[0;32m    289\u001b[0m \u001b[39m    Restore model weights.\u001b[39;00m\n\u001b[1;32m   (...)\u001b[0m\n\u001b[0;32m    300\u001b[0m \u001b[39m                 created for the restored variables.\u001b[39;00m\n\u001b[0;32m    301\u001b[0m \u001b[39m    \"\"\"\u001b[39;00m\n\u001b[1;32m--> 302\u001b[0m     \u001b[39mself\u001b[39m\u001b[39m.\u001b[39mtrainer\u001b[39m.\u001b[39mrestore(model_file, weights_only, \u001b[39m*\u001b[39m\u001b[39m*\u001b[39moptargs)\n\u001b[0;32m    303\u001b[0m     \u001b[39mself\u001b[39m\u001b[39m.\u001b[39msession \u001b[39m=\u001b[39m \u001b[39mself\u001b[39m\u001b[39m.\u001b[39mtrainer\u001b[39m.\u001b[39msession\n\u001b[0;32m    304\u001b[0m     \u001b[39mself\u001b[39m\u001b[39m.\u001b[39mpredictor \u001b[39m=\u001b[39m Evaluator([\u001b[39mself\u001b[39m\u001b[39m.\u001b[39mnet],\n\u001b[0;32m    305\u001b[0m                                session\u001b[39m=\u001b[39m\u001b[39mself\u001b[39m\u001b[39m.\u001b[39msession,\n\u001b[0;32m    306\u001b[0m                                model\u001b[39m=\u001b[39m\u001b[39mNone\u001b[39;00m)\n",
      "File \u001b[1;32m~\\AppData\\Roaming\\Python\\Python310\\site-packages\\tflearn\\helpers\\trainer.py:502\u001b[0m, in \u001b[0;36mTrainer.restore\u001b[1;34m(self, model_file, trainable_variable_only, variable_name_map, scope_for_restore, create_new_session, verbose)\u001b[0m\n\u001b[0;32m    500\u001b[0m     \u001b[39mself\u001b[39m\u001b[39m.\u001b[39mrestorer\u001b[39m.\u001b[39mrestore(\u001b[39mself\u001b[39m\u001b[39m.\u001b[39msession, model_file)\n\u001b[0;32m    501\u001b[0m \u001b[39melse\u001b[39;00m:\n\u001b[1;32m--> 502\u001b[0m     \u001b[39mself\u001b[39;49m\u001b[39m.\u001b[39;49mrestorer_trainvars\u001b[39m.\u001b[39;49mrestore(\u001b[39mself\u001b[39;49m\u001b[39m.\u001b[39;49msession, model_file)\n\u001b[0;32m    503\u001b[0m \u001b[39mfor\u001b[39;00m o \u001b[39min\u001b[39;00m \u001b[39mself\u001b[39m\u001b[39m.\u001b[39mtrain_ops:\n\u001b[0;32m    504\u001b[0m     o\u001b[39m.\u001b[39msession \u001b[39m=\u001b[39m \u001b[39mself\u001b[39m\u001b[39m.\u001b[39msession\n",
      "File \u001b[1;32m~\\AppData\\Roaming\\Python\\Python310\\site-packages\\tensorflow\\python\\training\\saver.py:1431\u001b[0m, in \u001b[0;36mSaver.restore\u001b[1;34m(self, sess, save_path)\u001b[0m\n\u001b[0;32m   1426\u001b[0m   names_to_keys \u001b[39m=\u001b[39m object_graph_key_mapping(save_path)\n\u001b[0;32m   1427\u001b[0m \u001b[39mexcept\u001b[39;00m errors\u001b[39m.\u001b[39mNotFoundError:\n\u001b[0;32m   1428\u001b[0m   \u001b[39m# 2. This is not an object-based checkpoint, which likely means there\u001b[39;00m\n\u001b[0;32m   1429\u001b[0m   \u001b[39m# is a graph mismatch. Re-raise the original error with\u001b[39;00m\n\u001b[0;32m   1430\u001b[0m   \u001b[39m# a helpful message (b/110263146)\u001b[39;00m\n\u001b[1;32m-> 1431\u001b[0m   \u001b[39mraise\u001b[39;00m _wrap_restore_error_with_msg(\n\u001b[0;32m   1432\u001b[0m       err, \u001b[39m\"\u001b[39m\u001b[39ma Variable name or other graph key that is missing\u001b[39m\u001b[39m\"\u001b[39m)\n\u001b[0;32m   1434\u001b[0m \u001b[39m# This is an object-based checkpoint. We'll print a warning and then do\u001b[39;00m\n\u001b[0;32m   1435\u001b[0m \u001b[39m# the restore.\u001b[39;00m\n\u001b[0;32m   1436\u001b[0m logging\u001b[39m.\u001b[39mwarning(\n\u001b[0;32m   1437\u001b[0m     \u001b[39m\"\u001b[39m\u001b[39mRestoring an object-based checkpoint using a name-based saver. This \u001b[39m\u001b[39m\"\u001b[39m\n\u001b[0;32m   1438\u001b[0m     \u001b[39m\"\u001b[39m\u001b[39mmay be somewhat fragile, and will re-build the Saver. Instead, \u001b[39m\u001b[39m\"\u001b[39m\n\u001b[0;32m   1439\u001b[0m     \u001b[39m\"\u001b[39m\u001b[39mconsider loading object-based checkpoints using \u001b[39m\u001b[39m\"\u001b[39m\n\u001b[0;32m   1440\u001b[0m     \u001b[39m\"\u001b[39m\u001b[39mtf.train.Checkpoint().\u001b[39m\u001b[39m\"\u001b[39m)\n",
      "\u001b[1;31mNotFoundError\u001b[0m: Restoring from checkpoint failed. This is most likely due to a Variable name or other graph key that is missing from the checkpoint. Please ensure that you have not altered the graph expected based on the checkpoint. Original error:\n\nGraph execution error:\n\nDetected at node 'save_10/RestoreV2' defined at (most recent call last):\n    File \"c:\\Python310\\lib\\runpy.py\", line 196, in _run_module_as_main\n      return _run_code(code, main_globals, None,\n    File \"c:\\Python310\\lib\\runpy.py\", line 86, in _run_code\n      exec(code, run_globals)\n    File \"C:\\Users\\kg149\\AppData\\Roaming\\Python\\Python310\\site-packages\\ipykernel_launcher.py\", line 17, in <module>\n      app.launch_new_instance()\n    File \"c:\\Python310\\lib\\site-packages\\traitlets\\config\\application.py\", line 1041, in launch_instance\n      app.start()\n    File \"C:\\Users\\kg149\\AppData\\Roaming\\Python\\Python310\\site-packages\\ipykernel\\kernelapp.py\", line 724, in start\n      self.io_loop.start()\n    File \"c:\\Python310\\lib\\site-packages\\tornado\\platform\\asyncio.py\", line 215, in start\n      self.asyncio_loop.run_forever()\n    File \"c:\\Python310\\lib\\asyncio\\base_events.py\", line 595, in run_forever\n      self._run_once()\n    File \"c:\\Python310\\lib\\asyncio\\base_events.py\", line 1881, in _run_once\n      handle._run()\n    File \"c:\\Python310\\lib\\asyncio\\events.py\", line 80, in _run\n      self._context.run(self._callback, *self._args)\n    File \"C:\\Users\\kg149\\AppData\\Roaming\\Python\\Python310\\site-packages\\ipykernel\\kernelbase.py\", line 512, in dispatch_queue\n      await self.process_one()\n    File \"C:\\Users\\kg149\\AppData\\Roaming\\Python\\Python310\\site-packages\\ipykernel\\kernelbase.py\", line 501, in process_one\n      await dispatch(*args)\n    File \"C:\\Users\\kg149\\AppData\\Roaming\\Python\\Python310\\site-packages\\ipykernel\\kernelbase.py\", line 408, in dispatch_shell\n      await result\n    File \"C:\\Users\\kg149\\AppData\\Roaming\\Python\\Python310\\site-packages\\ipykernel\\kernelbase.py\", line 731, in execute_request\n      reply_content = await reply_content\n    File \"C:\\Users\\kg149\\AppData\\Roaming\\Python\\Python310\\site-packages\\ipykernel\\ipkernel.py\", line 417, in do_execute\n      res = shell.run_cell(\n    File \"C:\\Users\\kg149\\AppData\\Roaming\\Python\\Python310\\site-packages\\ipykernel\\zmqshell.py\", line 540, in run_cell\n      return super().run_cell(*args, **kwargs)\n    File \"C:\\Users\\kg149\\AppData\\Roaming\\Python\\Python310\\site-packages\\IPython\\core\\interactiveshell.py\", line 2945, in run_cell\n      result = self._run_cell(\n    File \"C:\\Users\\kg149\\AppData\\Roaming\\Python\\Python310\\site-packages\\IPython\\core\\interactiveshell.py\", line 3000, in _run_cell\n      return runner(coro)\n    File \"C:\\Users\\kg149\\AppData\\Roaming\\Python\\Python310\\site-packages\\IPython\\core\\async_helpers.py\", line 129, in _pseudo_sync_runner\n      coro.send(None)\n    File \"C:\\Users\\kg149\\AppData\\Roaming\\Python\\Python310\\site-packages\\IPython\\core\\interactiveshell.py\", line 3203, in run_cell_async\n      has_raised = await self.run_ast_nodes(code_ast.body, cell_name,\n    File \"C:\\Users\\kg149\\AppData\\Roaming\\Python\\Python310\\site-packages\\IPython\\core\\interactiveshell.py\", line 3382, in run_ast_nodes\n      if await self.run_code(code, result, async_=asy):\n    File \"C:\\Users\\kg149\\AppData\\Roaming\\Python\\Python310\\site-packages\\IPython\\core\\interactiveshell.py\", line 3442, in run_code\n      exec(code_obj, self.user_global_ns, self.user_ns)\n    File \"C:\\Users\\kg149\\AppData\\Local\\Temp\\ipykernel_23900\\223887884.py\", line 9, in <module>\n      model = tflearn.DNN(net, tensorboard_dir='tflearn_logs')\n    File \"C:\\Users\\kg149\\AppData\\Roaming\\Python\\Python310\\site-packages\\tflearn\\models\\dnn.py\", line 57, in __init__\n      self.trainer = Trainer(self.train_ops,\n    File \"C:\\Users\\kg149\\AppData\\Roaming\\Python\\Python310\\site-packages\\tflearn\\helpers\\trainer.py\", line 157, in __init__\n      self.restorer_trainvars = tf.train.Saver(\nNode: 'save_10/RestoreV2'\nKey FullyConnected_3/W not found in checkpoint\n\t [[{{node save_10/RestoreV2}}]]\n\nOriginal stack trace for 'save_10/RestoreV2':\n  File \"c:\\Python310\\lib\\runpy.py\", line 196, in _run_module_as_main\n    return _run_code(code, main_globals, None,\n  File \"c:\\Python310\\lib\\runpy.py\", line 86, in _run_code\n    exec(code, run_globals)\n  File \"C:\\Users\\kg149\\AppData\\Roaming\\Python\\Python310\\site-packages\\ipykernel_launcher.py\", line 17, in <module>\n    app.launch_new_instance()\n  File \"c:\\Python310\\lib\\site-packages\\traitlets\\config\\application.py\", line 1041, in launch_instance\n    app.start()\n  File \"C:\\Users\\kg149\\AppData\\Roaming\\Python\\Python310\\site-packages\\ipykernel\\kernelapp.py\", line 724, in start\n    self.io_loop.start()\n  File \"c:\\Python310\\lib\\site-packages\\tornado\\platform\\asyncio.py\", line 215, in start\n    self.asyncio_loop.run_forever()\n  File \"c:\\Python310\\lib\\asyncio\\base_events.py\", line 595, in run_forever\n    self._run_once()\n  File \"c:\\Python310\\lib\\asyncio\\base_events.py\", line 1881, in _run_once\n    handle._run()\n  File \"c:\\Python310\\lib\\asyncio\\events.py\", line 80, in _run\n    self._context.run(self._callback, *self._args)\n  File \"C:\\Users\\kg149\\AppData\\Roaming\\Python\\Python310\\site-packages\\ipykernel\\kernelbase.py\", line 512, in dispatch_queue\n    await self.process_one()\n  File \"C:\\Users\\kg149\\AppData\\Roaming\\Python\\Python310\\site-packages\\ipykernel\\kernelbase.py\", line 501, in process_one\n    await dispatch(*args)\n  File \"C:\\Users\\kg149\\AppData\\Roaming\\Python\\Python310\\site-packages\\ipykernel\\kernelbase.py\", line 408, in dispatch_shell\n    await result\n  File \"C:\\Users\\kg149\\AppData\\Roaming\\Python\\Python310\\site-packages\\ipykernel\\kernelbase.py\", line 731, in execute_request\n    reply_content = await reply_content\n  File \"C:\\Users\\kg149\\AppData\\Roaming\\Python\\Python310\\site-packages\\ipykernel\\ipkernel.py\", line 417, in do_execute\n    res = shell.run_cell(\n  File \"C:\\Users\\kg149\\AppData\\Roaming\\Python\\Python310\\site-packages\\ipykernel\\zmqshell.py\", line 540, in run_cell\n    return super().run_cell(*args, **kwargs)\n  File \"C:\\Users\\kg149\\AppData\\Roaming\\Python\\Python310\\site-packages\\IPython\\core\\interactiveshell.py\", line 2945, in run_cell\n    result = self._run_cell(\n  File \"C:\\Users\\kg149\\AppData\\Roaming\\Python\\Python310\\site-packages\\IPython\\core\\interactiveshell.py\", line 3000, in _run_cell\n    return runner(coro)\n  File \"C:\\Users\\kg149\\AppData\\Roaming\\Python\\Python310\\site-packages\\IPython\\core\\async_helpers.py\", line 129, in _pseudo_sync_runner\n    coro.send(None)\n  File \"C:\\Users\\kg149\\AppData\\Roaming\\Python\\Python310\\site-packages\\IPython\\core\\interactiveshell.py\", line 3203, in run_cell_async\n    has_raised = await self.run_ast_nodes(code_ast.body, cell_name,\n  File \"C:\\Users\\kg149\\AppData\\Roaming\\Python\\Python310\\site-packages\\IPython\\core\\interactiveshell.py\", line 3382, in run_ast_nodes\n    if await self.run_code(code, result, async_=asy):\n  File \"C:\\Users\\kg149\\AppData\\Roaming\\Python\\Python310\\site-packages\\IPython\\core\\interactiveshell.py\", line 3442, in run_code\n    exec(code_obj, self.user_global_ns, self.user_ns)\n  File \"C:\\Users\\kg149\\AppData\\Local\\Temp\\ipykernel_23900\\223887884.py\", line 9, in <module>\n    model = tflearn.DNN(net, tensorboard_dir='tflearn_logs')\n  File \"C:\\Users\\kg149\\AppData\\Roaming\\Python\\Python310\\site-packages\\tflearn\\models\\dnn.py\", line 57, in __init__\n    self.trainer = Trainer(self.train_ops,\n  File \"C:\\Users\\kg149\\AppData\\Roaming\\Python\\Python310\\site-packages\\tflearn\\helpers\\trainer.py\", line 157, in __init__\n    self.restorer_trainvars = tf.train.Saver(\n  File \"C:\\Users\\kg149\\AppData\\Roaming\\Python\\Python310\\site-packages\\tensorflow\\python\\training\\saver.py\", line 931, in __init__\n    self.build()\n  File \"C:\\Users\\kg149\\AppData\\Roaming\\Python\\Python310\\site-packages\\tensorflow\\python\\training\\saver.py\", line 943, in build\n    self._build(self._filename, build_save=True, build_restore=True)\n  File \"C:\\Users\\kg149\\AppData\\Roaming\\Python\\Python310\\site-packages\\tensorflow\\python\\training\\saver.py\", line 971, in _build\n    self.saver_def = self._builder._build_internal(  # pylint: disable=protected-access\n  File \"C:\\Users\\kg149\\AppData\\Roaming\\Python\\Python310\\site-packages\\tensorflow\\python\\training\\saver.py\", line 540, in _build_internal\n    restore_op = self._AddRestoreOps(filename_tensor, saveables,\n  File \"C:\\Users\\kg149\\AppData\\Roaming\\Python\\Python310\\site-packages\\tensorflow\\python\\training\\saver.py\", line 360, in _AddRestoreOps\n    all_tensors = self.bulk_restore(filename_tensor, saveables, preferred_shard,\n  File \"C:\\Users\\kg149\\AppData\\Roaming\\Python\\Python310\\site-packages\\tensorflow\\python\\training\\saver.py\", line 608, in bulk_restore\n    return io_ops.restore_v2(filename_tensor, names, slices, dtypes)\n  File \"C:\\Users\\kg149\\AppData\\Roaming\\Python\\Python310\\site-packages\\tensorflow\\python\\ops\\gen_io_ops.py\", line 1604, in restore_v2\n    _, _, _op, _outputs = _op_def_library._apply_op_helper(\n  File \"C:\\Users\\kg149\\AppData\\Roaming\\Python\\Python310\\site-packages\\tensorflow\\python\\framework\\op_def_library.py\", line 795, in _apply_op_helper\n    op = g._create_op_internal(op_type_name, inputs, dtypes=None,\n  File \"C:\\Users\\kg149\\AppData\\Roaming\\Python\\Python310\\site-packages\\tensorflow\\python\\framework\\ops.py\", line 3798, in _create_op_internal\n    ret = Operation(\n"
     ]
    }
   ],
   "source": [
    "# load our saved model\n",
    "model.load('./model.tflearn', weights_only=True)"
   ]
  },
  {
   "cell_type": "code",
   "execution_count": null,
   "metadata": {},
   "outputs": [],
   "source": [
    "# Response processor\n",
    "ERROR_THRESHOLD = 0.25\n",
    "\n",
    "def classify(sentence):\n",
    "    results = model.predict([bow(sentence, words)])[0]\n",
    "\n",
    "    results =[[i, r] for i, r in enumerate(results) if r > ERROR_THRESHOLD]\n",
    "\n",
    "    results.sort(key=lambda x: x[1], reverse=True)\n",
    "    return_list =[]\n",
    "    for r in results:\n",
    "        return_list.append((classes[r[0]], r[1]))\n",
    "\n",
    "    return return_list"
   ]
  },
  {
   "cell_type": "code",
   "execution_count": null,
   "metadata": {},
   "outputs": [],
   "source": [
    "def response(sentence, userID='123', show_details=False):\n",
    "    results = classify(sentence)\n",
    "    if results:\n",
    "        while results:\n",
    "            for i in intents['intents']:\n",
    "                if i['tag'] == results[0][0]:\n",
    "                    return print(random.choice(i['responses']))\n",
    "\n",
    "            results.pop(0)"
   ]
  },
  {
   "cell_type": "code",
   "execution_count": null,
   "metadata": {},
   "outputs": [
    {
     "data": {
      "text/plain": [
       "[('opennow', 0.9264171123504639)]"
      ]
     },
     "execution_count": 34,
     "metadata": {},
     "output_type": "execute_result"
    }
   ],
   "source": [
    "classify('is your shop open today?')\n",
    "[('opennow', 0.9264171123504639)]"
   ]
  },
  {
   "cell_type": "code",
   "execution_count": null,
   "metadata": {},
   "outputs": [
    {
     "name": "stdout",
     "output_type": "stream",
     "text": [
      "Hello, thanks for visiting\n"
     ]
    }
   ],
   "source": [
    "response('Which models do you have?')"
   ]
  },
  {
   "cell_type": "code",
   "execution_count": null,
   "metadata": {},
   "outputs": [],
   "source": []
  }
 ],
 "metadata": {
  "kernelspec": {
   "display_name": "Python 3",
   "language": "python",
   "name": "python3"
  },
  "language_info": {
   "codemirror_mode": {
    "name": "ipython",
    "version": 3
   },
   "file_extension": ".py",
   "mimetype": "text/x-python",
   "name": "python",
   "nbconvert_exporter": "python",
   "pygments_lexer": "ipython3",
   "version": "3.10.1"
  },
  "orig_nbformat": 4,
  "vscode": {
   "interpreter": {
    "hash": "369f2c481f4da34e4445cda3fffd2e751bd1c4d706f27375911949ba6bb62e1c"
   }
  }
 },
 "nbformat": 4,
 "nbformat_minor": 2
}
